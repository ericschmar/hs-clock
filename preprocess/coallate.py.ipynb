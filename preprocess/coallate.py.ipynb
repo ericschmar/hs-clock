{
 "cells": [
  {
   "cell_type": "code",
   "execution_count": 24,
   "metadata": {},
   "outputs": [],
   "source": [
    "import sys\n",
    "import json\n",
    "from deck import deck\n",
    "from card import card\n",
    "from archetype import archetype\n",
    "\n",
    "def parse_decks_json(file):\n",
    "    with open(file) as data_file:\n",
    "        data = json.load(data_file)\n",
    "\n",
    "    d = data['series']\n",
    "    decks = []\n",
    "    for i in range(len(d['data'])):\n",
    "        keys = d['data'].keys()\n",
    "        items = d['data'][keys[i]]\n",
    "        for j in range(len(items)):\n",
    "            m = items[j]\n",
    "            c = deck(\n",
    "                    id=m['archetype_id'], \n",
    "                    game_length=m['avg_game_length_seconds'], \n",
    "                    turns=m['avg_num_player_turns'], \n",
    "                    deck_id=m['deck_id'], \n",
    "                    deck_list=m['deck_list'], \n",
    "                    digest=m['digest'], \n",
    "                    win_rate=m['win_rate'],\n",
    "                    player_class=keys[i])\n",
    "            decks.append(c)\n",
    "    #for i in range(len(decks)):\n",
    "     #   decks[i].print_deck()\n",
    "    return decks\n",
    "\n",
    "def count_archetypes(decks):\n",
    "    archs = {}\n",
    "    for i in range(len(decks)):\n",
    "        if decks[i].id not in archs:\n",
    "            archs[decks[i].id] = 1\n",
    "        else:\n",
    "            archs[decks[i].id] += 1\n",
    "        \n",
    "    #for key, value in sorted(archs.iteritems(), key=lambda (k,v): (v,k))[::-1]:\n",
    "     #   print \"%s:      %s\" % (key, value)\n",
    "    \n",
    "    return archs\n",
    "        \n",
    "def save_deck_counts(filename):\n",
    "    f = open(filename, 'w')\n",
    "    archs = count_archetypes(parse_decks_json(\"decks.json\"))\n",
    "    for key, value in sorted(archs.iteritems(), key=lambda (k,v): (v,k))[::-1]:\n",
    "        f.write(str(key) + \", \" + str(value) + \"\\n\")\n",
    "        \n",
    "\n",
    "save_deck_counts(\"deck_counts/initial\")\n",
    "        \n",
    "        \n"
   ]
  },
  {
   "cell_type": "code",
   "execution_count": null,
   "metadata": {},
   "outputs": [],
   "source": []
  }
 ],
 "metadata": {
  "kernelspec": {
   "display_name": "Python 2",
   "language": "python",
   "name": "python2"
  },
  "language_info": {
   "codemirror_mode": {
    "name": "ipython",
    "version": 2
   },
   "file_extension": ".py",
   "mimetype": "text/x-python",
   "name": "python",
   "nbconvert_exporter": "python",
   "pygments_lexer": "ipython2",
   "version": "2.7.6"
  }
 },
 "nbformat": 4,
 "nbformat_minor": 2
}
